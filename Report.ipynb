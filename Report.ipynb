{
 "cells": [
  {
   "cell_type": "markdown",
   "metadata": {},
   "source": [
    "# Report for geodata dataset"
   ]
  },
  {
   "cell_type": "code",
   "execution_count": 2,
   "metadata": {},
   "outputs": [],
   "source": [
    "### Setup\n",
    "import pandas as pd\n",
    "import os\n",
    "import seaborn as sns\n",
    "import matplotlib.pyplot as plt\n",
    "\n",
    "from pandas.api.types import CategoricalDtype"
   ]
  },
  {
   "cell_type": "code",
   "execution_count": 3,
   "metadata": {},
   "outputs": [],
   "source": [
    "# nacitanie dat\n",
    "\n",
    "census = pd.read_csv(\"./census11_21/data_obce_vyhl_nevyhl.csv\")\n",
    "census.columns = [x.lower() for x in census.columns]\n",
    "\n",
    "crime = pd.read_csv(\"./kriminalita/kriminalita_obce.csv\")\n",
    "crime.columns= [x.lower() for x in crime.columns]\n",
    "\n",
    "# obce_agg = pd.read_csv(\"./obce_agregace.csv\")\n",
    "\n",
    "df_cr_socdem = pd.merge(census, crime, on=\"obec_kod\")\n",
    "\n",
    "# out_fold = os.path.join(os.getcwd(), \"output\")\n",
    "\n",
    "col_df = df_cr_socdem.columns\n",
    "col_crime = crime.columns\n"
   ]
  },
  {
   "cell_type": "code",
   "execution_count": 4,
   "metadata": {},
   "outputs": [],
   "source": [
    "def extract_cols_of(list_cols,item, obec_kod=False):\n",
    "    cols=[]\n",
    "    if obec_kod == True:\n",
    "        cols.append(\"obec_kod\")\n",
    "    for col in list_cols:\n",
    "        if item in col:\n",
    "            cols.append(col)\n",
    "    return cols"
   ]
  },
  {
   "cell_type": "code",
   "execution_count": 5,
   "metadata": {},
   "outputs": [],
   "source": [
    "def plot_hist_mean_for_data(df, x_name):\n",
    "    y_name=\"mean\"\n",
    "    x = [ \"-\".join(x.split(\"_\")[1:]) for x in df.columns]\n",
    "    y = [ (df[col].sum()/len(df[col])) for col in df.columns ]\n",
    "    mx = [ df[col].max() for col in df.columns ]\n",
    "    mn = [ df[col].min() for col in df.columns ]\n",
    "    stderr = [df[col].std() for col in df.columns]\n",
    "    plt.bar(x, y)\n",
    "    plt.errorbar(x, y, fmt=\"o\", yerr=stderr, color=\"black\")\n",
    "    plt.xticks(rotation=45)\n",
    "    plt.show()"
   ]
  },
  {
   "cell_type": "markdown",
   "metadata": {},
   "source": [
    "Every time I plot in the graphs below I used calculated mean and stdev from whole column (one variable) and I plotted it with column names on the x axis."
   ]
  },
  {
   "cell_type": "code",
   "execution_count": 6,
   "metadata": {},
   "outputs": [],
   "source": [
    "def exclude_columns_containing(df,*items):\n",
    "    cols=[]\n",
    "    for col in df.columns:\n",
    "        col_ok = True\n",
    "        for item in items:\n",
    "            if item in col:\n",
    "                col_ok = False\n",
    "        if col_ok == True:\n",
    "            cols.append(col)\n",
    "    return df[cols]"
   ]
  },
  {
   "cell_type": "markdown",
   "metadata": {},
   "source": [
    "# 1. Business understanding\n",
    "### Description of problem to be solved\n",
    "\n",
    "The aim of this repotrt is to find relations between certain demographic features and crime rate that is observed cities of Czech Republic. \n",
    "There might be stakeholders or investors that could center their investments on cities with neutral values for crime rate depending on the variables that are available. On the other side it might be usefull for political authorities that are in charge of constant improvement of citizens' wellbeing. \n",
    "High crime rate in cities naturally has negative impact on the satisfaction of its residents. European fonds might be allocated  to the towns in order to reach uniformity of city's development, etc.\n",
    "\n",
    "Since census takes place on regular basis, modeling has potential to find valid links and correlations between observed variables (such as age average, highest proportion of people without or with insufficient education and crime rate.\n",
    "\n",
    "By simple prior reasoning about correlations with crime rates of cities I suppose there are soft or even mild links with education of its residents. Other possible reason for increased crime rate might be insufficient care from state for the city's residents. Groups of people who might feel less supported financialy are families with 5+ children, or where people with different nationality or citizenship are prevalent. Partiall disadvantage is for people who can not speak the language (or other similar language) of the country they live in. \n",
    "\n",
    "Other possibly usefull feature might be info about previous experience with crime commitment. People who have been in jail before have hard time getting a job.  "
   ]
  },
  {
   "cell_type": "code",
   "execution_count": 7,
   "metadata": {},
   "outputs": [],
   "source": [
    "sh_ce = census.shape\n",
    "sh_cr = crime.shape\n",
    "sh_t = df_cr_socdem.shape"
   ]
  },
  {
   "cell_type": "markdown",
   "metadata": {
    "variables": {
     " sh_ce[0] ": "6246",
     "list(census.columns)": "[&#39;deti_0_2021&#39;,\n &#39;deti_1_2021&#39;,\n &#39;deti_2_2021&#39;,\n &#39;deti_3_2021&#39;,\n &#39;deti_4_2021&#39;,\n &#39;deti_5_vice_2021&#39;,\n &#39;deti_nezj_2021&#39;,\n &#39;domy_mat_drevo_2021&#39;,\n &#39;domy_mat_kamen_cihly_2021&#39;,\n &#39;domy_mat_nep_cihly_2021&#39;,\n &#39;domy_mat_nezj_2021&#39;,\n &#39;domy_mat_ostatni_2021&#39;,\n &#39;domy_mat_panel_2021&#39;,\n &#39;domy_obd_1919_2021&#39;,\n &#39;domy_obd_1920_1945_2021&#39;,\n &#39;domy_obd_1946_1970_2021&#39;,\n &#39;domy_obd_1971_1980_2021&#39;,\n &#39;domy_obd_1981_1990_2021&#39;,\n &#39;domy_obd_1991_2000_2021&#39;,\n &#39;domy_obd_2001_2010_2021&#39;,\n &#39;domy_obd_2011_2015_2021&#39;,\n &#39;domy_obd_2016_2021&#39;,\n &#39;domy_obd_nezj_2021&#39;,\n &#39;domy_vlast_byt_dr_mean&#39;,\n &#39;domy_vlast_byt_dr_diff&#39;,\n &#39;domy_vlast_fyz_mean&#39;,\n &#39;domy_vlast_fyz_diff&#39;,\n &#39;domy_vlast_obec_stat_mean&#39;,\n &#39;domy_vlast_obec_stat_diff&#39;,\n &#39;domy_vlast_spol_mean&#39;,\n &#39;domy_vlast_spol_diff&#39;,\n &#39;jazyk_cesky_2021&#39;,\n &#39;jazyk_nezj_2021&#39;,\n &#39;jazyk_slov_2021&#39;,\n &#39;jazyk_ukr_2021&#39;,\n &#39;narod_ceska_mean&#39;,\n &#39;narod_ceska_diff&#39;,\n &#39;narod_morav_mean&#39;,\n &#39;narod_morav_diff&#39;,\n &#39;narod_nezj_2011&#39;,\n &#39;narod_slov_mean&#39;,\n &#39;narod_slov_diff&#39;,\n &#39;narod_ukr_mean&#39;,\n &#39;narod_ukr_diff&#39;,\n &#39;obcanstvi_cesko_2021&#39;,\n &#39;obcanstvi_nezj_2021&#39;,\n &#39;obcanstvi_slov_2021&#39;,\n &#39;obcanstvi_ukr_2021&#39;,\n &#39;rod_stav_nezj_2021&#39;,\n &#39;rod_stav_rozv_mean&#39;,\n &#39;rod_stav_rozv_diff&#39;,\n &#39;rod_stav_svob_mean&#39;,\n &#39;rod_stav_svob_diff&#39;,\n &#39;rod_stav_vdov_mean&#39;,\n &#39;rod_stav_vdov_diff&#39;,\n &#39;rod_stav_zen_vdana_mean&#39;,\n &#39;rod_stav_zen_vdana_diff&#39;,\n &#39;vek_0_14_mean&#39;,\n &#39;vek_0_14_diff&#39;,\n &#39;vek_15_19_mean&#39;,\n &#39;vek_15_19_diff&#39;,\n &#39;vek_20_29_mean&#39;,\n &#39;vek_20_29_diff&#39;,\n &#39;vek_30_39_mean&#39;,\n &#39;vek_30_39_diff&#39;,\n &#39;vek_40_49_mean&#39;,\n &#39;vek_40_49_diff&#39;,\n &#39;vek_50_59_mean&#39;,\n &#39;vek_50_59_diff&#39;,\n &#39;vek_60_64_mean&#39;,\n &#39;vek_60_64_diff&#39;,\n &#39;vek_65_69_mean&#39;,\n &#39;vek_65_69_diff&#39;,\n &#39;vek_70_79_mean&#39;,\n &#39;vek_70_79_diff&#39;,\n &#39;vek_80_inf_mean&#39;,\n &#39;vek_80_inf_diff&#39;,\n &#39;vek_muzi_0_14_mean&#39;,\n &#39;vek_muzi_0_14_diff&#39;,\n &#39;vek_muzi_15_19_mean&#39;,\n &#39;vek_muzi_15_19_diff&#39;,\n &#39;vek_muzi_20_29_mean&#39;,\n &#39;vek_muzi_20_29_diff&#39;,\n &#39;vek_muzi_30_39_mean&#39;,\n &#39;vek_muzi_30_39_diff&#39;,\n &#39;vek_muzi_40_49_mean&#39;,\n &#39;vek_muzi_40_49_diff&#39;,\n &#39;vek_muzi_50_59_mean&#39;,\n &#39;vek_muzi_50_59_diff&#39;,\n &#39;vek_muzi_60_64_mean&#39;,\n &#39;vek_muzi_60_64_diff&#39;,\n &#39;vek_muzi_65_69_mean&#39;,\n &#39;vek_muzi_65_69_diff&#39;,\n &#39;vek_muzi_70_79_mean&#39;,\n &#39;vek_muzi_70_79_diff&#39;,\n &#39;vek_muzi_80_inf_mean&#39;,\n &#39;vek_muzi_80_inf_diff&#39;,\n &#39;vek_zeny_0_14_mean&#39;,\n &#39;vek_zeny_0_14_diff&#39;,\n &#39;vek_zeny_15_19_mean&#39;,\n &#39;vek_zeny_15_19_diff&#39;,\n &#39;vek_zeny_20_29_mean&#39;,\n &#39;vek_zeny_20_29_diff&#39;,\n &#39;vek_zeny_30_39_mean&#39;,\n &#39;vek_zeny_30_39_diff&#39;,\n &#39;vek_zeny_40_49_mean&#39;,\n &#39;vek_zeny_40_49_diff&#39;,\n &#39;vek_zeny_50_59_mean&#39;,\n &#39;vek_zeny_50_59_diff&#39;,\n &#39;vek_zeny_60_64_mean&#39;,\n &#39;vek_zeny_60_64_diff&#39;,\n &#39;vek_zeny_65_69_mean&#39;,\n &#39;vek_zeny_65_69_diff&#39;,\n &#39;vek_zeny_70_79_mean&#39;,\n &#39;vek_zeny_70_79_diff&#39;,\n &#39;vek_zeny_80_inf_mean&#39;,\n &#39;vek_zeny_80_inf_diff&#39;,\n &#39;vira_ateisti_mean&#39;,\n &#39;vira_ateisti_diff&#39;,\n &#39;vira_evangelici_mean&#39;,\n &#39;vira_evangelici_diff&#39;,\n &#39;vira_hlasici_mean&#39;,\n &#39;vira_hlasici_diff&#39;,\n &#39;vira_husiti_mean&#39;,\n &#39;vira_husiti_diff&#39;,\n &#39;vira_katolici_mean&#39;,\n &#39;vira_katolici_diff&#39;,\n &#39;vira_nehlasici_mean&#39;,\n &#39;vira_nehlasici_diff&#39;,\n &#39;vira_nezj_mean&#39;,\n &#39;vira_nezj_diff&#39;,\n &#39;vzdelani_bez_mean&#39;,\n &#39;vzdelani_bez_diff&#39;,\n &#39;vzdelani_nezj_2021&#39;,\n &#39;vzdelani_str_bm_mean&#39;,\n &#39;vzdelani_str_bm_diff&#39;,\n &#39;vzdelani_str_np_mean&#39;,\n &#39;vzdelani_str_np_diff&#39;,\n &#39;vzdelani_vo_mean&#39;,\n &#39;vzdelani_vo_diff&#39;,\n &#39;vzdelani_vys_mean&#39;,\n &#39;vzdelani_vys_diff&#39;,\n &#39;vzdelani_zakl_mean&#39;,\n &#39;vzdelani_zakl_diff&#39;,\n &#39;obec_kod&#39;,\n &#39;obec_nazev&#39;,\n &#39;vzdelani_nezj_vyhl_2021&#39;,\n &#39;jazyk_nezj_vyhl_2021&#39;,\n &#39;jazyk_cesky_vyhl_2021&#39;,\n &#39;deti_5_vice_vyhl_2021&#39;,\n &#39;domy_obd_1919_vyhl_2021&#39;,\n &#39;rod_stav_rozv_vyhl_mean&#39;,\n &#39;vzdelani_zakl_vyhl_mean&#39;,\n &#39;rod_stav_zen_vdana_vyhl_mean&#39;,\n &#39;vzdelani_str_np_vyhl_mean&#39;,\n &#39;vzdelani_vys_vyhl_mean&#39;,\n &#39;vira_ateisti_vyhl_mean&#39;,\n &#39;vek_80_inf_vyhl_mean&#39;,\n &#39;domy_vlast_obec_stat_vyhl_mean&#39;,\n &#39;domy_vlast_fyz_vyhl_mean&#39;]",
     "list(crime.columns)": "[&#39;obec_kod&#39;, &#39;p55&#39;, &#39;p62&#39;, &#39;p75&#39;, &#39;p76&#39;, &#39;p77&#39;, &#39;p78&#39;, &#39;p80&#39;, &#39;p81&#39;, &#39;p83&#39;]",
     "sh_ce[1]": "160",
     "sh_cr[0]": "6254",
     "sh_cr[1]": "10",
     "sh_t[0]": "6246",
     "sh_t[1]": "169"
    }
   },
   "source": [
    "# 2. Data understanding\n",
    "\n",
    "## Description of input data\n",
    "Data come from 2 different datasets. One dataset is from census that takes place every 10 years (data_obce_vyhl_nevyhl.csv). Its size is {{ sh_ce[0] }} rows & {{sh_ce[1]}} columns. \n",
    "\n",
    "The other dataset is containing crime id's and its posterior probability in each city. The size of the dataframe is {{sh_cr[0]}} rows & {{sh_cr[1]}} columns. Connected together with key \"obec_kod\" is {{sh_t[0]}} rows & {{sh_t[1]}} columns.\n",
    "\n",
    "Tha datasets have been acquired from DataScience nextcloud from <a href=\"https://nextcloud.profinit.eu/index.php/s/rRZdYPDZnqkodD9\" >Profinit </a> .\n",
    "Input data can be divided into 11 groups depending on the area it describes. \n",
    "There are variables considering:\n",
    "<ol>\n",
    "    <li> Number of children in each city </li>\n",
    "     - Range of number of children varies between 0 and 5+.\n",
    "    <li> Houses and the material it is build of </li>\n",
    "     - Houses built of wood, stones or bricks, extruded brick, panel houses ,differen material and unknown material\n",
    "    <li> Period of time of its construction  </li>\n",
    "     - Construction in range from 1919 up to 2021\n",
    "    <li> House owner </li>\n",
    "     - House can be owned by housing cooperative, physical person, state or city and person on its own. Every house owner category carries value for diff and mean between years 2021 and 2011\n",
    "    <li> Propotions of nationalities </li>\n",
    "    - List of nationalities Czech, Moravian, Slovak, Ukrainian or unknown\n",
    "    <li> Proportions of citizenships</li>\n",
    "        - Citizenships of values Czech, Slovak or Ukrainian (+unknown)\n",
    "    <li> Family status</li>\n",
    "        - Values single, married, widow/ed, divorced or unknown. With all these values there are also records for the mean and diff (between years 2011 and 2021)\n",
    "    <li> Age </li>\n",
    "        - Age ranges from newborns (0) up to 80 and more. Furthermore it also carries information about regarding gender. Also columns with value for mean and diff between years 2011 and 2021 is included for each age.\n",
    "    <li> Religion of city's residents </li>\n",
    "        - Religions occuring are Catholics, Hussites, Evangelicals, Ateists or people who are not classifing themselfs - not voting. Every religion carries value for diff and mean between years 2021 and 2011\n",
    "    <li> Education </li>\n",
    "        - Categorical values are without education, unknown, high school (without state exam), high school (with state exam), higher professional education (including conservatory), college, primary/secondary education or unfinished. Every category carries value for diff and mean between years 2021 and 2011.\n",
    "</ol>\n",
    "\n",
    "Exausting list of all columns in dataset for **census** is: \n",
    "> {{list(census.columns)}}\n",
    "\n",
    "> Each column contains numeric values representing relative amount of people belonging to that category.\n",
    "\n",
    "And list of all columns for **crime** is:\n",
    "> {{list(crime.columns)}}\n",
    "\n",
    "> Every columns represents posterior probability for that crime.\n",
    "   \n",
    "\n",
    "Additional information in **census** dataset are values which seemed to be the most usefull and therefore were normalised with beta distribution. The values with this tranformation are \n",
    "(vzdelani_nezj_vyhl_2021, \n",
    "jazyk_nezj_vyhl_2021, \n",
    "jazyk_cesky_vyhl_2021,\n",
    "deti_5_vice_vyhl_2021,\n",
    "domy_obd_1919_vyhl_2021, \n",
    "rod_stav_rozv_vyhl_mean, \n",
    "vzdelani_zakl_vyhl_mean,\n",
    "rod_stav_zen_vdana_vyhl_mean,\n",
    "vzdelani_str_np_vyhl_mean, \n",
    "vzdelani_vys_vyhl_mean,\n",
    "vira_ateisti_vyhl_mean,\n",
    "vek_80_inf_vyhl_mean, \n",
    "domy_vlast_obec_stat_vyhl_mean, \n",
    "domy_vlast_fyz_vyhl_mean\n",
    ")\n"
   ]
  },
  {
   "cell_type": "markdown",
   "metadata": {},
   "source": [
    "For further analysis I divided whole **census** dataset into subgrups of variables. I will describe each group separately with its own graphs. I have decided to work only with the columns that represent mean between values acquired from 2011 and 2021 and do not contain the values which are normalised. "
   ]
  },
  {
   "cell_type": "markdown",
   "metadata": {},
   "source": [
    "### Number of children"
   ]
  },
  {
   "cell_type": "code",
   "execution_count": 25,
   "metadata": {},
   "outputs": [
    {
     "name": "stdout",
     "output_type": "stream",
     "text": [
      "True\n"
     ]
    },
    {
     "data": {
      "image/png": "[encoded data removed]",
      "text/plain": [
       "<Figure size 432x288 with 1 Axes>"
      ]
     },
     "metadata": {
      "needs_background": "light"
     },
     "output_type": "display_data"
    }
   ],
   "source": [
    "df_children = df_cr_socdem[extract_cols_of(col_df,\"deti\")]\n",
    "df_children = exclude_columns_containing(df_children,\"vyhl\")\n",
    "\n",
    "df_children[\"check\"] = (df_children.sum(axis=1))\n",
    "print(len(df_children.iloc[:,1]) == df_children[\"check\"].sum())\n",
    "df_children=df_children.drop(['check'], axis=1)\n",
    "\n",
    "df = df_children.describe()\n",
    "# print(df)\n",
    "\n",
    "plot_hist_mean_for_data(df_children, \"number_of_kids\")"
   ]
  },
  {
   "cell_type": "markdown",
   "metadata": {
    "variables": {
     "len(df_children.columns)": "7",
     "list(df_children.columns)": "[&#39;deti_0_2021&#39;,\n &#39;deti_1_2021&#39;,\n &#39;deti_2_2021&#39;,\n &#39;deti_3_2021&#39;,\n &#39;deti_4_2021&#39;,\n &#39;deti_5_vice_2021&#39;,\n &#39;deti_nezj_2021&#39;]"
    }
   },
   "source": [
    "This variable has {{len(df_children.columns)}} categories. Each one expresses relative abundancy of families having given number or children.\n",
    "Categories are {{list(df_children.columns)}}. The most frequent observation is that family has 2 kids (following are families with without children, 3 kids and 1 kid).\n",
    "\n",
    "Summing each row separately gives 1 (without normalised column). That confirms that input data for number of children is correct. No null values occur."
   ]
  },
  {
   "cell_type": "markdown",
   "metadata": {},
   "source": [
    "### Houses - material"
   ]
  },
  {
   "cell_type": "code",
   "execution_count": 8,
   "metadata": {},
   "outputs": [
    {
     "data": {
      "image/png": "[encoded data removed]",
      "text/plain": [
       "<Figure size 432x288 with 1 Axes>"
      ]
     },
     "metadata": {
      "needs_background": "light"
     },
     "output_type": "display_data"
    },
    {
     "name": "stdout",
     "output_type": "stream",
     "text": [
      "True\n"
     ]
    },
    {
     "name": "stderr",
     "output_type": "stream",
     "text": [
      "<ipython-input-8-c44afb05b8b3>:6: SettingWithCopyWarning: \n",
      "A value is trying to be set on a copy of a slice from a DataFrame.\n",
      "Try using .loc[row_indexer,col_indexer] = value instead\n",
      "\n",
      "See the caveats in the documentation: https://pandas.pydata.org/pandas-docs/stable/user_guide/indexing.html#returning-a-view-versus-a-copy\n",
      "  df_houses_m[\"check\"] = (df_houses_m.sum(axis=1))\n"
     ]
    }
   ],
   "source": [
    "df_houses_m = df_cr_socdem[extract_cols_of(col_df, \"domy_mat\")]\n",
    "\n",
    "\n",
    "plot_hist_mean_for_data(df_houses_m, \"houses_material\")\n",
    "\n",
    "df_houses_m[\"check\"] = (df_houses_m.sum(axis=1))\n",
    "print(len(df_houses_m.iloc[:,1]) == df_houses_m[\"check\"].sum())\n",
    "df_houses_m=df_houses_m.drop(['check'], axis=1)"
   ]
  },
  {
   "cell_type": "markdown",
   "metadata": {
    "variables": {
     "len(df_houses_m.columns)": "6",
     "list(df_houses_m.columns)": "[&#39;domy_mat_drevo_2021&#39;,\n &#39;domy_mat_kamen_cihly_2021&#39;,\n &#39;domy_mat_nep_cihly_2021&#39;,\n &#39;domy_mat_nezj_2021&#39;,\n &#39;domy_mat_ostatni_2021&#39;,\n &#39;domy_mat_panel_2021&#39;]"
    }
   },
   "source": [
    "Values contained in the subgroup about material have {{len(df_houses_m.columns)}} categories. They are {{list(df_houses_m.columns)}}. Columns carry information what was the material used for house construction. Most frequently houses are build from stones and bricks. On the other end are houses which are build from extruded bricks, wood and panel. Approximately every fifth house has untracked material it is build of.\n",
    "\n",
    "After summation of each row separately, results are equal to 1. That confirms that input data for construction material is correct. No null values occur."
   ]
  },
  {
   "cell_type": "markdown",
   "metadata": {},
   "source": [
    "## Houses - contruction"
   ]
  },
  {
   "cell_type": "code",
   "execution_count": 28,
   "metadata": {},
   "outputs": [
    {
     "data": {
      "image/png": "[encoded data removed]",
      "text/plain": [
       "<Figure size 432x288 with 1 Axes>"
      ]
     },
     "metadata": {
      "needs_background": "light"
     },
     "output_type": "display_data"
    },
    {
     "name": "stdout",
     "output_type": "stream",
     "text": [
      "False\n",
      "1.8189894035458565e-12\n"
     ]
    }
   ],
   "source": [
    "df_houses_c = df_cr_socdem[extract_cols_of(col_df, \"domy_obd\")]\n",
    "df_houses_c = exclude_columns_containing(df_houses_c,\"vyhl\")\n",
    "\n",
    "plot_hist_mean_for_data(df_houses_c, \"construction_period\")\n",
    "df_houses_c.describe()\n",
    "\n",
    "df_houses_c[\"check\"] = (df_houses_c.sum(axis=1))\n",
    "\n",
    "print(len(df_houses_c.iloc[:,1]) == df_houses_c[\"check\"].sum())\n",
    "err =len(df_houses_c.iloc[:,1]) - (df_houses_c[\"check\"].sum())\n",
    "print(err)\n",
    "df_houses_c=df_houses_c.drop(['check'], axis=1)"
   ]
  },
  {
   "cell_type": "markdown",
   "metadata": {
    "variables": {
     "err/len(df_nat.iloc[:,1])": "2.9122468836789246e-16",
     "len(df_houses_c.columns)": "11",
     "list(df_houses_c.columns)": "[&#39;domy_obd_1919_2021&#39;,\n &#39;domy_obd_1920_1945_2021&#39;,\n &#39;domy_obd_1946_1970_2021&#39;,\n &#39;domy_obd_1971_1980_2021&#39;,\n &#39;domy_obd_1981_1990_2021&#39;,\n &#39;domy_obd_1991_2000_2021&#39;,\n &#39;domy_obd_2001_2010_2021&#39;,\n &#39;domy_obd_2011_2015_2021&#39;,\n &#39;domy_obd_2016_2021&#39;,\n &#39;domy_obd_nezj_2021&#39;,\n &#39;check&#39;]"
    }
   },
   "source": [
    "### Houses - contruction\n",
    "Another parameters that are tracked in dataset are about the period the building/house was built in. There are {{len(df_houses_c.columns)}} columns: {{list(df_houses_c.columns)}}.\n",
    "\n",
    "Most frequent construction era was between 1946-1970. But almost 20% of the time the time range when the building was constracted is unknown or untracked. The lowest increase in new houses was in years 2001-2010, since less then 5% of building were constructed at that time.\n",
    "\n",
    "In the dataset there is some row that does not add up to 1 and the overall error is {{err/len(df_nat.iloc[:,1])}}. It is pretty small value and can not be easily located due to implicit rounding of numbers. (Error was calculated as subtraction of number_of_rows and sum_of_each_row divided by count_of_vals_in_col)"
   ]
  },
  {
   "cell_type": "markdown",
   "metadata": {},
   "source": [
    "## Houses - owner"
   ]
  },
  {
   "cell_type": "code",
   "execution_count": 19,
   "metadata": {},
   "outputs": [
    {
     "data": {
      "image/png": "[encoded data removed]",
      "text/plain": [
       "<Figure size 432x288 with 1 Axes>"
      ]
     },
     "metadata": {
      "needs_background": "light"
     },
     "output_type": "display_data"
    },
    {
     "name": "stdout",
     "output_type": "stream",
     "text": [
      "False\n",
      "166.6597446237738\n",
      "False\n",
      "-9.094947017729282e-13\n"
     ]
    }
   ],
   "source": [
    "\n",
    "df_houses_o = df_cr_socdem[extract_cols_of(col_df, \"domy_vlast\")]\n",
    "df_houses_o = exclude_columns_containing(df_houses_o,\"vyhl\",\"diff\")\n",
    "\n",
    "plot_hist_mean_for_data(df_houses_o, \"house_owner\")\n",
    "\n",
    "df_houses_o.describe()\n",
    "\n",
    "df_houses_o[\"check\"] = (df_houses_o.sum(axis=1))\n",
    "\n",
    "print(len(df_houses_o.iloc[:,1]) == df_houses_o[\"check\"].sum())\n",
    "\n",
    "check_perc=0.99\n",
    "relevant_value = df_houses_o.loc[df_houses_o['check'] <check_perc]\n",
    "\n",
    "err =len(df_houses_o.iloc[:,1]) - (df_houses_o[\"check\"].sum())\n",
    "print(err)\n",
    "df_houses_o=df_houses_o.drop(['check'], axis=1)\n",
    "\n",
    "\n",
    "# Err to add in each column\n",
    "err_to_add = err / (len(df_houses_o.columns))\n",
    "\n",
    "for col in df_houses_o.columns:\n",
    "    # Add error to each value in columns uniformly\n",
    "    col_len = len(df_houses_o[col])\n",
    "    df_houses_o[col]+= err_to_add / col_len\n",
    "    \n",
    "df_houses_o[\"check\"] = (df_houses_o.sum(axis=1))\n",
    "\n",
    "print(len(df_houses_o.iloc[:,1]) == df_houses_o[\"check\"].sum())\n",
    "err2 = len(df_houses_o.iloc[:,1]) - (df_houses_o[\"check\"].sum())\n",
    "print(err2)\n",
    "df_houses_o=df_houses_o.drop(['check'], axis=1)\n"
   ]
  },
  {
   "cell_type": "markdown",
   "metadata": {
    "variables": {
     "check_perc": "0.99",
     "err/len(df_houses_o.iloc[:,1])": "0.026682636026861",
     "len(df_houses_o.columns)": "4",
     "list(df_houses_o.columns)": "[&#39;domy_vlast_byt_dr_mean&#39;,\n &#39;domy_vlast_fyz_mean&#39;,\n &#39;domy_vlast_obec_stat_mean&#39;,\n &#39;domy_vlast_spol_mean&#39;]",
     "relevant_value.shape[0]": "5189"
    }
   },
   "source": [
    "In this group of data about the owner of constructions we observed who owns the house property. It contains {{len(df_houses_o.columns)}}\n",
    "columns named {{list(df_houses_o.columns)}}.\n",
    "\n",
    "After computing and plotting the average of building owners we can see that the owner - physical person is most frequent, about 90% of the time.\n",
    "\n",
    "With summation check, here the error is more abundant. {{relevant_value.shape[0]}} rows has its sum lower than {{check_perc}}. The average error per row is {{err/len(df_houses_o.iloc[:,1])}}. I redistributed the error uniformely over all columns to achieve row sum 1."
   ]
  },
  {
   "cell_type": "markdown",
   "metadata": {},
   "source": [
    "### Languages"
   ]
  },
  {
   "cell_type": "code",
   "execution_count": 14,
   "metadata": {},
   "outputs": [
    {
     "data": {
      "image/png": "[encoded data removed]",
      "text/plain": [
       "<Figure size 432x288 with 1 Axes>"
      ]
     },
     "metadata": {
      "needs_background": "light"
     },
     "output_type": "display_data"
    },
    {
     "name": "stdout",
     "output_type": "stream",
     "text": [
      "False\n",
      "34.87718558608685\n"
     ]
    }
   ],
   "source": [
    "# language\n",
    "df_lang = df_cr_socdem[extract_cols_of(col_df, \"jazyk\")]\n",
    "df_lang = exclude_columns_containing(df_lang, \"vyhl\")\n",
    "\n",
    "plot_hist_mean_for_data(df_lang, \"languages\")\n",
    "\n",
    "df_lang[\"check\"] = (df_lang.sum(axis=1))\n",
    "check_perc=0.99\n",
    "relevant_value = df_lang.loc[df_lang['check'] < check_perc]\n",
    "print(len(df_lang.iloc[:,1]) == df_lang[\"check\"].sum())\n",
    "err = len(df_lang.iloc[:,1]) - (df_lang[\"check\"].sum())\n",
    "print(err)\n",
    "df_lang=df_lang.drop(['check'], axis=1)"
   ]
  },
  {
   "cell_type": "markdown",
   "metadata": {
    "variables": {
     "check_perc": "0.99",
     "err/len(df_lang.iloc[:,1])": "0.005583923404752938",
     "len(df_lang.columns)": "4",
     "list(df_lang.columns)": "[&#39;jazyk_cesky_2021&#39;, &#39;jazyk_nezj_2021&#39;, &#39;jazyk_slov_2021&#39;, &#39;jazyk_ukr_2021&#39;]",
     "relevant_value.shape[0]": "1407"
    }
   },
   "source": [
    "During the consensus in 2011 and 2021 data about langages spoken at the cities have been collected. There is/are {{len(df_lang.columns)}} categories and their values are {{list(df_lang.columns)}}.\n",
    "\n",
    "In the dataset there are some rows that do not add up to 1 and the average error per row is {{err/len(df_lang.iloc[:,1])}}. There are {{relevant_value.shape[0]}} rows that have sum value of each row below {{check_perc}} (Error was calculated as subtraction of number_of_rows and sum_of_sum_of_each_row divided by count_of_vals_in_col)"
   ]
  },
  {
   "cell_type": "markdown",
   "metadata": {},
   "source": [
    "## Nationality"
   ]
  },
  {
   "cell_type": "code",
   "execution_count": 15,
   "metadata": {},
   "outputs": [
    {
     "data": {
      "image/png": "[encoded data removed]",
      "text/plain": [
       "<Figure size 432x288 with 1 Axes>"
      ]
     },
     "metadata": {
      "needs_background": "light"
     },
     "output_type": "display_data"
    },
    {
     "name": "stdout",
     "output_type": "stream",
     "text": [
      "False\n",
      "274.4439643982696 \n",
      "\n",
      "True\n",
      "0.0\n"
     ]
    },
    {
     "data": {
      "image/png": "[encoded data removed]",
      "text/plain": [
       "<Figure size 432x288 with 1 Axes>"
      ]
     },
     "metadata": {
      "needs_background": "light"
     },
     "output_type": "display_data"
    }
   ],
   "source": [
    "df_nat = df_cr_socdem[extract_cols_of(col_df, \"narod\")]\n",
    "df_nat = exclude_columns_containing(df_nat, \"diff\", \"vyhl\")\n",
    "plot_hist_mean_for_data(df_nat, \"nationalities\")\n",
    "\n",
    "\n",
    "df_nat[\"check\"] = (df_nat.sum(axis=1))\n",
    "check_perc=0.90\n",
    "relevant_value = df_nat.loc[df_nat['check'] < check_perc]\n",
    "# print(relevant_value)\n",
    "print(len(df_nat.iloc[:,1]) == df_nat[\"check\"].sum())\n",
    "err = len(df_nat.iloc[:,1]) - (df_nat[\"check\"].sum())\n",
    "print(err, \"\\n\")\n",
    "\n",
    "# Fixing the resulting sum of each row\n",
    "no_2011_df = exclude_columns_containing(df_nat, \"2011\", \"check\")\n",
    "df_nat[\"narod_nezj_2011\"] = 1-no_2011_df.sum(axis=1)\n",
    "df_nat[\"check\"] = (exclude_columns_containing(df_nat, \"check\").sum(axis=1))\n",
    "\n",
    "print(len(df_nat.iloc[:,1]) == df_nat[\"check\"].sum())\n",
    "err2 = len(df_nat.iloc[:,1]) - (df_nat[\"check\"].sum())\n",
    "print(err2)\n",
    "df_nat.rename(columns = {'narod_nezj_2011':'narod_nezj_mean'}, inplace = True)\n",
    "df_nat=df_nat.drop(['check'], axis=1)\n",
    "plot_hist_mean_for_data(df_nat, \"nationalities\")"
   ]
  },
  {
   "cell_type": "markdown",
   "metadata": {
    "variables": {
     "check_perc": "0.9",
     "err/len(df_nat.iloc[:,1])": "0.043939155363155555",
     "list(df_nat.columns)": "[&#39;narod_ceska_mean&#39;,\n &#39;narod_morav_mean&#39;,\n &#39;narod_nezj_mean&#39;,\n &#39;narod_slov_mean&#39;,\n &#39;narod_ukr_mean&#39;]",
     "relevant_value.shape[0]": "477"
    }
   },
   "source": [
    "The nationalities found amongst all citites are {{list(df_nat.columns)}}. As is visible from the graph the most abundant nationality is is Czech and then the second one is proportion of people with unknown nationality.\n",
    "\n",
    "In the dataset there are many rows that do not add up to 1 and the average error per row is {{err/len(df_nat.iloc[:,1])}}. Might be the result of using columns with mean (between years 2011 and 2021) and not the exact value for each year. What might be more disturbing is that dataset does not contain mean value for unknown nationality.\n",
    "Since it is the last category and represents the unknown nationality, it is safe to rewrite the value for each redord in this column. After that the sum of each row would is 1 (as necessary for relative frequencies).\n",
    "\n",
    "There are {{relevant_value.shape[0]}} rows that have sum value of each row below {{check_perc}} (Error was calculated as subtraction of number_of_rows and sum_of_sum_of_each_row divided by count_of_vals_in_col)."
   ]
  },
  {
   "cell_type": "markdown",
   "metadata": {},
   "source": [
    "### Citizenship"
   ]
  },
  {
   "cell_type": "code",
   "execution_count": 14,
   "metadata": {},
   "outputs": [
    {
     "data": {
      "image/png": "[encoded data removed]",
      "text/plain": [
       "<Figure size 432x288 with 1 Axes>"
      ]
     },
     "metadata": {
      "needs_background": "light"
     },
     "output_type": "display_data"
    },
    {
     "name": "stdout",
     "output_type": "stream",
     "text": [
      "False\n",
      "58.955831803205\n"
     ]
    }
   ],
   "source": [
    "df_citiz = df_cr_socdem[extract_cols_of(col_df, \"obcanstvi\")]\n",
    "df_citiz = exclude_columns_containing(df_citiz, \"vyhl\", \"diff\")\n",
    "plot_hist_mean_for_data(df_citiz, \"citizens\")\n",
    "\n",
    "df_citiz[\"check\"] = (df_citiz.sum(axis=1))\n",
    "check_perc=1\n",
    "relevant_value = df_citiz.loc[df_citiz['check'] > check_perc]\n",
    "# print(relevant_value)\n",
    "print(len(df_citiz.iloc[:,1]) == df_citiz[\"check\"].sum())\n",
    "err = len(df_citiz.iloc[:,1]) - (df_citiz[\"check\"].sum())\n",
    "print(err)"
   ]
  },
  {
   "cell_type": "markdown",
   "metadata": {
    "variables": {
     "check_perc": "1",
     "err/len(df_nat.iloc[:,1])": "0.009438974031893211",
     "len(df_citiz.columns)": "5",
     "list(df_citiz.columns)": "[&#39;obcanstvi_cesko_2021&#39;,\n &#39;obcanstvi_nezj_2021&#39;,\n &#39;obcanstvi_slov_2021&#39;,\n &#39;obcanstvi_ukr_2021&#39;,\n &#39;check&#39;]",
     "relevant_value.shape[0]": "28"
    }
   },
   "source": [
    "The citizens of Czech Republic (where the census took place)  have {{len(df_citiz.columns)}} categories: {{list(df_citiz.columns)}}. Most people are Czech. Other categories have only small fraction of people (below 2%). \n",
    "\n",
    "Some rows do not add up to 1 and have average error per row: {{err/len(df_nat.iloc[:,1])}}. But it is acceptable error. There are {{relevant_value.shape[0]}} rows that have sum value of each row above {{check_perc}} (Error was calculated as subtraction of number_of_rows and sum_of_sum_of_each_row divided by count_of_vals_in_col)."
   ]
  },
  {
   "cell_type": "markdown",
   "metadata": {},
   "source": [
    "### Family status"
   ]
  },
  {
   "cell_type": "code",
   "execution_count": 16,
   "metadata": {},
   "outputs": [
    {
     "data": {
      "image/png": "[encoded data removed]",
      "text/plain": [
       "<Figure size 432x288 with 1 Axes>"
      ]
     },
     "metadata": {
      "needs_background": "light"
     },
     "output_type": "display_data"
    },
    {
     "name": "stdout",
     "output_type": "stream",
     "text": [
      "False\n",
      "-2.305732489669026\n",
      "True\n",
      "0.0\n"
     ]
    },
    {
     "data": {
      "image/png": "[encoded data removed]",
      "text/plain": [
       "<Figure size 432x288 with 1 Axes>"
      ]
     },
     "metadata": {
      "needs_background": "light"
     },
     "output_type": "display_data"
    }
   ],
   "source": [
    "# family status\n",
    "df_status = df_cr_socdem[extract_cols_of(col_df, \"rod\")]\n",
    "df_status = exclude_columns_containing(df_status, \"diff\",\"vyhl\",\"narod\")\n",
    "\n",
    "plot_hist_mean_for_data(df_status, \"family_status\")\n",
    "\n",
    "df_status[\"check\"] = (df_status.sum(axis=1))\n",
    "check_perc=0.95\n",
    "relevant_value = df_status.loc[df_status['check'] < check_perc]\n",
    "print(len(df_status.iloc[:,1]) == df_status[\"check\"].sum())\n",
    "err = len(df_status.iloc[:,1]) - (df_status[\"check\"].sum())\n",
    "print(err)\n",
    "\n",
    "# Fixing sum of rows to 1 in category unknown\n",
    "no_2021_df = exclude_columns_containing(df_status, \"2021\", \"check\")\n",
    "df_status[\"rod_stav_nezj_2021\"] = 1-no_2021_df.sum(axis=1)\n",
    "df_status[\"check\"] = df_status.drop(['check'], axis=1).sum(axis=1)\n",
    "\n",
    "print(len(df_status.iloc[:,1]) == df_status[\"check\"].sum())\n",
    "err2 = len(df_status.iloc[:,1]) - (df_status[\"check\"].sum())\n",
    "print(err2)\n",
    "df_status.rename(columns = {'rod_stav_nezj_2021':'rod_stav_nezj_mean'}, inplace = True)\n",
    "df_status=df_status.drop(['check'], axis=1)\n",
    "plot_hist_mean_for_data(df_status, \"family_status\")"
   ]
  },
  {
   "cell_type": "markdown",
   "metadata": {
    "variables": {
     "check_perc": "0.95",
     "err/len(df_nat.iloc[:,1])": "-0.00036915345655924207",
     "len(df_status.columns)": "5",
     "list(df_status.columns)": "[&#39;rod_stav_nezj_mean&#39;,\n &#39;rod_stav_rozv_mean&#39;,\n &#39;rod_stav_svob_mean&#39;,\n &#39;rod_stav_vdov_mean&#39;,\n &#39;rod_stav_zen_vdana_mean&#39;]",
     "relevant_value.shape[0]": "1"
    }
   },
   "source": [
    "Family status of people from observed cities has {{len(df_status.columns)}} categories which are {{list(df_status.columns)}}. \n",
    "Most of the people are either marries or single. Next less abundant proportion of people are for divorced and widow/er.\n",
    "\n",
    "Necessary to recalculare mean values for family state \"unknown\" (as with nationalities). \n",
    "\n",
    "There are many rows that do not add up to 1 and the average error per row is {{err/len(df_nat.iloc[:,1])}}. There is {{relevant_value.shape[0]}} row that have sum value of each row below {{check_perc}} (Error was calculated as subtraction of number_of_rows and sum_of_sum_of_each_row divided by count_of_vals_in_col)."
   ]
  },
  {
   "cell_type": "markdown",
   "metadata": {},
   "source": [
    "### Age"
   ]
  },
  {
   "cell_type": "code",
   "execution_count": 16,
   "metadata": {},
   "outputs": [
    {
     "name": "stdout",
     "output_type": "stream",
     "text": [
      "False\n",
      "8.211082526291648\n",
      "For subset of women and men:\n",
      "False\n",
      "8.211082526297105\n"
     ]
    },
    {
     "name": "stderr",
     "output_type": "stream",
     "text": [
      "<ipython-input-16-4ff0ecc58baf>:25: SettingWithCopyWarning: \n",
      "A value is trying to be set on a copy of a slice from a DataFrame.\n",
      "Try using .loc[row_indexer,col_indexer] = value instead\n",
      "\n",
      "See the caveats in the documentation: https://pandas.pydata.org/pandas-docs/stable/user_guide/indexing.html#returning-a-view-versus-a-copy\n",
      "  df[\"check\"] = (df.sum(axis=1))\n",
      "<ipython-input-16-4ff0ecc58baf>:35: SettingWithCopyWarning: \n",
      "A value is trying to be set on a copy of a slice from a DataFrame.\n",
      "Try using .loc[row_indexer,col_indexer] = value instead\n",
      "\n",
      "See the caveats in the documentation: https://pandas.pydata.org/pandas-docs/stable/user_guide/indexing.html#returning-a-view-versus-a-copy\n",
      "  df[\"check\"] = (df.sum(axis=1))\n"
     ]
    },
    {
     "data": {
      "image/png": "[encoded data removed]",
      "text/plain": [
       "<Figure size 432x288 with 1 Axes>"
      ]
     },
     "metadata": {
      "needs_background": "light"
     },
     "output_type": "display_data"
    }
   ],
   "source": [
    "df_age = df_cr_socdem[extract_cols_of(col_df, \"vek\") ]\n",
    "df_age = exclude_columns_containing(df_age, \"diff\", \"vyhl\")\n",
    "\n",
    "df_age_muzi = df_age[extract_cols_of(df_age, \"muzi\")]\n",
    "df_age_zeny = df_age[extract_cols_of(df_age, \"zeny\")]\n",
    "df_age_mean = exclude_columns_containing(df_age, \"muzi\",\"zeny\")\n",
    "\n",
    "# plot_hist_mean_for_data(df_age_mean, \"age\")\n",
    "# plot_hist_mean_for_data(df_age_muzi, \"age\")\n",
    "# plot_hist_mean_for_data(df_age_zeny, \"age\")\n",
    "\n",
    "cols=[\"age\",\"mean\",\"women\",\"men\"]\n",
    "muz_zen_mean = pd.DataFrame(columns=cols)\n",
    "for i in range(0, len(df_age_mean.columns)):\n",
    "    ag=\"-\".join(df_age_mean.columns[i].split(\"_\")[1:3])\n",
    "    muz_zen_mean = muz_zen_mean.append({cols[0]:ag,\n",
    "                                        cols[1]:df_age_mean[df_age_mean.columns[i]].mean(),\n",
    "                                       cols[2]:df_age_zeny[df_age_zeny.columns[i]].mean(),\n",
    "                                       cols[3]:df_age_muzi[df_age_muzi.columns[i]].mean(),\n",
    "                                       }, ignore_index=True)\n",
    "\n",
    "muz_zen_mean.plot(x=\"age\", y=cols[1:], kind=\"bar\")\n",
    "\n",
    "df=df_age_mean\n",
    "df[\"check\"] = (df.sum(axis=1))\n",
    "check_perc=0.99\n",
    "relevant_value = df.loc[df['check'] < check_perc]\n",
    "print(len(df.iloc[:,1]) == df[\"check\"].sum())\n",
    "err = len(df.iloc[:,1]) - (df[\"check\"].sum())\n",
    "print(err)\n",
    "df.drop(['check'], axis=1)\n",
    "\n",
    "suma=0\n",
    "for df in [df_age_zeny,df_age_muzi]:\n",
    "    df[\"check\"] = (df.sum(axis=1))\n",
    "    suma += df[\"check\"].sum()\n",
    "    df.drop(['check'], axis=1)\n",
    "    \n",
    "print(\"For subset of women and men:\")\n",
    "print(len(df.iloc[:,1]) == suma)\n",
    "print(len(df.iloc[:,1]) - suma)\n"
   ]
  },
  {
   "cell_type": "markdown",
   "metadata": {
    "variables": {
     "check_perc": "0.99",
     "err/len(df_age_mean.iloc[:,1])": "0.0013146145575234787",
     "len(df_age.columns)": "30",
     "list(df_age.columns)": "[&#39;vek_0_14_mean&#39;,\n &#39;vek_15_19_mean&#39;,\n &#39;vek_20_29_mean&#39;,\n &#39;vek_30_39_mean&#39;,\n &#39;vek_40_49_mean&#39;,\n &#39;vek_50_59_mean&#39;,\n &#39;vek_60_64_mean&#39;,\n &#39;vek_65_69_mean&#39;,\n &#39;vek_70_79_mean&#39;,\n &#39;vek_80_inf_mean&#39;,\n &#39;vek_muzi_0_14_mean&#39;,\n &#39;vek_muzi_15_19_mean&#39;,\n &#39;vek_muzi_20_29_mean&#39;,\n &#39;vek_muzi_30_39_mean&#39;,\n &#39;vek_muzi_40_49_mean&#39;,\n &#39;vek_muzi_50_59_mean&#39;,\n &#39;vek_muzi_60_64_mean&#39;,\n &#39;vek_muzi_65_69_mean&#39;,\n &#39;vek_muzi_70_79_mean&#39;,\n &#39;vek_muzi_80_inf_mean&#39;,\n &#39;vek_zeny_0_14_mean&#39;,\n &#39;vek_zeny_15_19_mean&#39;,\n &#39;vek_zeny_20_29_mean&#39;,\n &#39;vek_zeny_30_39_mean&#39;,\n &#39;vek_zeny_40_49_mean&#39;,\n &#39;vek_zeny_50_59_mean&#39;,\n &#39;vek_zeny_60_64_mean&#39;,\n &#39;vek_zeny_65_69_mean&#39;,\n &#39;vek_zeny_70_79_mean&#39;,\n &#39;vek_zeny_80_inf_mean&#39;]",
     "relevant_value.shape[0]": "38"
    }
   },
   "source": [
    "Age subgroup has {{len(df_age.columns)}} and the columns are: {{list(df_age.columns)}}\n",
    "\n",
    "Most common age is 0-14 and then follows the 40-49, 30-39, 50-59. Seems like growing population, since the youngest are most prevalent. Graph depicting age mean shows which gender is more frequent. Seems like men are almost always one step higher in frequency. \n",
    "\n",
    "Some rows do not sum up to 1 and the average error per row is {{err/len(df_age_mean.iloc[:,1])}} (acceptable). There are {{relevant_value.shape[0]}} rows that have sum value of each row below {{check_perc}} (Error was calculated as subtraction of number_of_rows and sum_of_sum_of_each_row divided by count_of_vals_in_col).\n",
    "\n",
    "Looks like columns which describe age of men and women were used to calculate the mean because group-men&women have the same row error as the subgroup for age categories where no gender is specified."
   ]
  },
  {
   "cell_type": "code",
   "execution_count": 11,
   "metadata": {},
   "outputs": [
    {
     "data": {
      "image/png": "[encoded data removed]",
      "text/plain": [
       "<Figure size 432x288 with 1 Axes>"
      ]
     },
     "metadata": {
      "needs_background": "light"
     },
     "output_type": "display_data"
    },
    {
     "name": "stdout",
     "output_type": "stream",
     "text": [
      "False\n",
      "-778.0880909925199\n",
      "True\n",
      "0.0\n"
     ]
    }
   ],
   "source": [
    "# religion\n",
    "df_rel = df_cr_socdem[extract_cols_of(col_df, \"vira\")]\n",
    "df_rel = exclude_columns_containing(df_rel, \"diff\", \"vyhl\")\n",
    "plot_hist_mean_for_data(df_rel, \"religions\")\n",
    "\n",
    "df=df_rel\n",
    "df[\"check\"] = (df.sum(axis=1))\n",
    "check_perc=0.99\n",
    "relevant_value = df.loc[df['check'] < check_perc]\n",
    "print(len(df.iloc[:,1]) == df[\"check\"].sum())\n",
    "err = len(df.iloc[:,1]) - (df[\"check\"].sum())\n",
    "print(err)\n",
    "df =df.drop(['check'], axis=1)\n",
    "df_rel = df\n",
    "\n",
    "\n",
    "# Err to add in each column\n",
    "err_to_add = err / (len(df_rel.columns))\n",
    "\n",
    "for col in df_rel.columns:\n",
    "    # Add error to each value in columns uniformly\n",
    "    col_len = len(df_rel[col])\n",
    "    df_rel[col]+= err_to_add / col_len \n",
    "\n",
    "df_rel[\"check\"] = (df_rel.sum(axis=1))\n",
    "print(len(df_rel.iloc[:,1]) == df_rel[\"check\"].sum())\n",
    "err2 = len(df_rel.iloc[:,1]) - (df_rel[\"check\"].sum())\n",
    "print(err2)"
   ]
  },
  {
   "cell_type": "markdown",
   "metadata": {
    "variables": {
     "err/len(df_rel.iloc[:,1])": "-0.12457382180475823",
     "len(df_rel.columns)": "8",
     "list(df_rel.columns)": "[&#39;vira_ateisti_mean&#39;,\n &#39;vira_evangelici_mean&#39;,\n &#39;vira_hlasici_mean&#39;,\n &#39;vira_husiti_mean&#39;,\n &#39;vira_katolici_mean&#39;,\n &#39;vira_nehlasici_mean&#39;,\n &#39;vira_nezj_mean&#39;,\n &#39;check&#39;]"
    }
   },
   "source": [
    "Subgroup around religion contains {{len(df_rel.columns)}} categories and those are {{list(df_rel.columns)}}. From barplot it looks like most people from Czech republic are atheists, since almost 40% people classified themselfs as Atheists. Besides the most frequent value from concrete category there is also category for religion not being known (for cerca 40% of residents). There are cities where every second person is atheist or every forth. Values differ as shown by black vertical line. \n",
    "\n",
    "Some rows do not sum up to 1 and the average error per row is {{err/len(df_rel.iloc[:,1])}} ( NOT acceptable). Some values must be lost. Possible way how to correct this difference is to adjust the value for \"unknown\" category or uniformly split the difference between mentioned {{len(df_rel.columns)}} categories. I did the uniform addition of error amongst all values in the dataframe. After this transformation each rows sums up to 1."
   ]
  },
  {
   "cell_type": "markdown",
   "metadata": {},
   "source": [
    "### Education"
   ]
  },
  {
   "cell_type": "code",
   "execution_count": 13,
   "metadata": {},
   "outputs": [
    {
     "data": {
      "image/png": "[encoded data removed]",
      "text/plain": [
       "<Figure size 432x288 with 1 Axes>"
      ]
     },
     "metadata": {
      "needs_background": "light"
     },
     "output_type": "display_data"
    },
    {
     "name": "stdout",
     "output_type": "stream",
     "text": [
      "False\n",
      "-39.670260684716595\n",
      "True\n",
      "0.0\n"
     ]
    }
   ],
   "source": [
    "df_edu = df_cr_socdem[extract_cols_of(col_df, \"vzdelani\")]\n",
    "df_edu = exclude_columns_containing(df_edu, \"diff\", \"vyhl\")\n",
    "\n",
    "plot_hist_mean_for_data(df_edu, \"education\")\n",
    "\n",
    "df=df_edu\n",
    "df[\"check\"] = (df.sum(axis=1))\n",
    "check_perc=0.99\n",
    "relevant_value = df.loc[df['check'] < check_perc]\n",
    "print(len(df.iloc[:,1]) == df[\"check\"].sum())\n",
    "err = len(df.iloc[:,1]) - (df[\"check\"].sum())\n",
    "print(err)\n",
    "df =df.drop(['check'], axis=1)\n",
    "df = df_edu\n",
    "\n",
    "# Fixing sum of rows to 1 in category unknown\n",
    "no_2021_df = exclude_columns_containing(df_edu, \"2021\", \"check\")\n",
    "df_edu[\"vzdelani_nezj_2021\"] = 1-no_2021_df.sum(axis=1)\n",
    "df_edu[\"check\"] = df_edu.drop(['check'], axis=1).sum(axis=1)\n",
    "\n",
    "print(len(df_edu.iloc[:,1]) == df_edu[\"check\"].sum())\n",
    "err2 = len(df_edu.iloc[:,1]) - (df_edu[\"check\"].sum())\n",
    "print(err2)\n",
    "df_edu.rename(columns = {'vzdelani_nezj_2021':'vzdelani_nezj_mean'}, inplace = True)\n",
    "df_edu=df_edu.drop(['check'], axis=1)"
   ]
  },
  {
   "cell_type": "markdown",
   "metadata": {
    "variables": {
     "err/len(df_edu.iloc[:,1])": "-0.006351306545743931",
     "len(df_edu.columns)": "7",
     "list(df_edu.columns)": "[&#39;vzdelani_bez_mean&#39;,\n &#39;vzdelani_nezj_mean&#39;,\n &#39;vzdelani_str_bm_mean&#39;,\n &#39;vzdelani_str_np_mean&#39;,\n &#39;vzdelani_vo_mean&#39;,\n &#39;vzdelani_vys_mean&#39;,\n &#39;vzdelani_zakl_mean&#39;]"
    }
   },
   "source": [
    "When looking at education we can find {{len(df_edu.columns)}} categories listed: {{list(df_edu.columns)}}. Most of the residents amongst all cities have high school without final state exams and then people with high school and final exam follow. Surprisingly less people are with college degree than people who have only primary and secundary education (or dropped school early).\n",
    "Values for education were calculated only for people that are older than 15.\n",
    "\n",
    "Checking sum of row gives row error: {{err/len(df_edu.iloc[:,1])}}. This is acceptable, but I will recalculate this error and fix it in column for \"unknown\" category (because is th subgroup it is for year 2021 and other values are means).\n"
   ]
  },
  {
   "cell_type": "markdown",
   "metadata": {},
   "source": [
    "### Crime"
   ]
  },
  {
   "cell_type": "code",
   "execution_count": 19,
   "metadata": {
    "scrolled": false
   },
   "outputs": [
    {
     "data": {
      "image/png": "[encoded data removed]",
      "text/plain": [
       "<Figure size 432x288 with 1 Axes>"
      ]
     },
     "metadata": {
      "needs_background": "light"
     },
     "output_type": "display_data"
    },
    {
     "name": "stdout",
     "output_type": "stream",
     "text": [
      "               p55          p62          p75          p76          p77  \\\n",
      "count  6254.000000  6254.000000  6254.000000  6254.000000  6254.000000   \n",
      "mean      0.002455     0.001141     0.002713     0.006746     0.005656   \n",
      "std       0.002871     0.003236     0.003908     0.006036     0.006763   \n",
      "min       0.000134     0.000011     0.000036     0.000312     0.000113   \n",
      "25%       0.001001     0.000138     0.000534     0.002909     0.001904   \n",
      "50%       0.001616     0.000288     0.001210     0.005193     0.004151   \n",
      "75%       0.003237     0.001191     0.003579     0.008907     0.007495   \n",
      "max       0.122060     0.171782     0.068884     0.158378     0.205006   \n",
      "\n",
      "               p78          p80          p81          p83  \n",
      "count  6254.000000  6254.000000  6254.000000  6254.000000  \n",
      "mean      0.007732     0.001337     0.000244     0.001096  \n",
      "std       0.028349     0.001586     0.000764     0.001397  \n",
      "min       0.000079     0.000047     0.000003     0.000025  \n",
      "25%       0.001317     0.000443     0.000047     0.000326  \n",
      "50%       0.002603     0.000734     0.000083     0.000551  \n",
      "75%       0.005964     0.001685     0.000132     0.001283  \n",
      "max       0.803151     0.031042     0.031681     0.019287  \n"
     ]
    }
   ],
   "source": [
    "crime_no = crime.loc[:,col_crime!=\"obec_kod\"] #bez id obce\n",
    "sns.boxplot(data=crime_no, orient=\"v\", medianprops={\"color\": \"coral\"})\n",
    "plt.show()\n",
    "\n",
    "\n",
    "print(crime_no.describe())"
   ]
  },
  {
   "cell_type": "markdown",
   "metadata": {
    "variables": {
     "len(crime_no.columns)": "9",
     "list(crime_no.columns)": "[&#39;p55&#39;, &#39;p62&#39;, &#39;p75&#39;, &#39;p76&#39;, &#39;p77&#39;, &#39;p78&#39;, &#39;p80&#39;, &#39;p81&#39;, &#39;p83&#39;]"
    }
   },
   "source": [
    "Data subset in this group is portraying crimes classified according to crime id. There are {{len(crime_no.columns)}} of them and those are {{list(crime_no.columns)}}. \n",
    "<ol>\n",
    "    <li> p55 - all other property crimes </li>\n",
    "    <li> p62 - offences agains the public interest </li>\n",
    "    <li> p75 - In the field of protection against alcoholism and toxic addiction </li>\n",
    "    <li> p76 - Against public order and civil coexistence </li>\n",
    "    <li> p77 - Agains property </li>\n",
    "    <li> p78 - Toxicomania </li>\n",
    "    <li> p81 - Illegal production, possession and sale of narcotic drugs and poisons </li>\n",
    "    <li> p83 - Other forms of toxic addiction including misdemeanours </li>\n",
    "</ol>\n",
    "\n",
    "Values in these columns are posterior probabilities for each crime in each city. Posterior probabilities are acquired from previous computation and data."
   ]
  }
 ],
 "metadata": {
  "kernelspec": {
   "display_name": "Python 3",
   "language": "python",
   "name": "python3"
  },
  "language_info": {
   "codemirror_mode": {
    "name": "ipython",
    "version": 3
   },
   "file_extension": ".py",
   "mimetype": "text/x-python",
   "name": "python",
   "nbconvert_exporter": "python",
   "pygments_lexer": "ipython3",
   "version": "3.8.5"
  }
 },
 "nbformat": 4,
 "nbformat_minor": 4
}
